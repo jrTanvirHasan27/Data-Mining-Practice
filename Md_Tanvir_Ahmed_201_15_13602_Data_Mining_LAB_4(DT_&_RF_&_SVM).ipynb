{
  "nbformat": 4,
  "nbformat_minor": 0,
  "metadata": {
    "colab": {
      "name": "Md. Tanvir Ahmed_201-15-13602_Data Mining LAB-4(DT & RF & SVM).ipynb",
      "provenance": [],
      "collapsed_sections": [],
      "authorship_tag": "ABX9TyPuLbSaaZMIQk/3IZl7TMgZ",
      "include_colab_link": true
    },
    "kernelspec": {
      "name": "python3",
      "display_name": "Python 3"
    },
    "language_info": {
      "name": "python"
    }
  },
  "cells": [
    {
      "cell_type": "markdown",
      "metadata": {
        "id": "view-in-github",
        "colab_type": "text"
      },
      "source": [
        "<a href=\"https://colab.research.google.com/github/jrTanvirHasan27/Data-Mining-Practice/blob/main/Md_Tanvir_Ahmed_201_15_13602_Data_Mining_LAB_4(DT_%26_RF_%26_SVM).ipynb\" target=\"_parent\"><img src=\"https://colab.research.google.com/assets/colab-badge.svg\" alt=\"Open In Colab\"/></a>"
      ]
    },
    {
      "cell_type": "code",
      "execution_count": null,
      "metadata": {
        "id": "O3BdPkEFBnsl"
      },
      "outputs": [],
      "source": [
        "import pandas as pd\n",
        "import numpy as np"
      ]
    },
    {
      "cell_type": "code",
      "source": [
        "df = pd.read_csv(\"/content/diabetes.csv\")\n",
        "df"
      ],
      "metadata": {
        "colab": {
          "base_uri": "https://localhost:8080/",
          "height": 424
        },
        "id": "BtzKMdk8FBgV",
        "outputId": "6732fe23-8c24-4ed7-91f5-4d4d97b8e946"
      },
      "execution_count": null,
      "outputs": [
        {
          "output_type": "execute_result",
          "data": {
            "text/plain": [
              "     Pregnancies  Glucose  BloodPressure  SkinThickness  Insulin   BMI  \\\n",
              "0              6      148             72             35        0  33.6   \n",
              "1              1       85             66             29        0  26.6   \n",
              "2              8      183             64              0        0  23.3   \n",
              "3              1       89             66             23       94  28.1   \n",
              "4              0      137             40             35      168  43.1   \n",
              "..           ...      ...            ...            ...      ...   ...   \n",
              "763           10      101             76             48      180  32.9   \n",
              "764            2      122             70             27        0  36.8   \n",
              "765            5      121             72             23      112  26.2   \n",
              "766            1      126             60              0        0  30.1   \n",
              "767            1       93             70             31        0  30.4   \n",
              "\n",
              "     DiabetesPedigreeFunction  Age  Outcome  \n",
              "0                       0.627   50        1  \n",
              "1                       0.351   31        0  \n",
              "2                       0.672   32        1  \n",
              "3                       0.167   21        0  \n",
              "4                       2.288   33        1  \n",
              "..                        ...  ...      ...  \n",
              "763                     0.171   63        0  \n",
              "764                     0.340   27        0  \n",
              "765                     0.245   30        0  \n",
              "766                     0.349   47        1  \n",
              "767                     0.315   23        0  \n",
              "\n",
              "[768 rows x 9 columns]"
            ],
            "text/html": [
              "\n",
              "  <div id=\"df-f0b9cebe-8af4-4435-94ee-a8f8975fb4be\">\n",
              "    <div class=\"colab-df-container\">\n",
              "      <div>\n",
              "<style scoped>\n",
              "    .dataframe tbody tr th:only-of-type {\n",
              "        vertical-align: middle;\n",
              "    }\n",
              "\n",
              "    .dataframe tbody tr th {\n",
              "        vertical-align: top;\n",
              "    }\n",
              "\n",
              "    .dataframe thead th {\n",
              "        text-align: right;\n",
              "    }\n",
              "</style>\n",
              "<table border=\"1\" class=\"dataframe\">\n",
              "  <thead>\n",
              "    <tr style=\"text-align: right;\">\n",
              "      <th></th>\n",
              "      <th>Pregnancies</th>\n",
              "      <th>Glucose</th>\n",
              "      <th>BloodPressure</th>\n",
              "      <th>SkinThickness</th>\n",
              "      <th>Insulin</th>\n",
              "      <th>BMI</th>\n",
              "      <th>DiabetesPedigreeFunction</th>\n",
              "      <th>Age</th>\n",
              "      <th>Outcome</th>\n",
              "    </tr>\n",
              "  </thead>\n",
              "  <tbody>\n",
              "    <tr>\n",
              "      <th>0</th>\n",
              "      <td>6</td>\n",
              "      <td>148</td>\n",
              "      <td>72</td>\n",
              "      <td>35</td>\n",
              "      <td>0</td>\n",
              "      <td>33.6</td>\n",
              "      <td>0.627</td>\n",
              "      <td>50</td>\n",
              "      <td>1</td>\n",
              "    </tr>\n",
              "    <tr>\n",
              "      <th>1</th>\n",
              "      <td>1</td>\n",
              "      <td>85</td>\n",
              "      <td>66</td>\n",
              "      <td>29</td>\n",
              "      <td>0</td>\n",
              "      <td>26.6</td>\n",
              "      <td>0.351</td>\n",
              "      <td>31</td>\n",
              "      <td>0</td>\n",
              "    </tr>\n",
              "    <tr>\n",
              "      <th>2</th>\n",
              "      <td>8</td>\n",
              "      <td>183</td>\n",
              "      <td>64</td>\n",
              "      <td>0</td>\n",
              "      <td>0</td>\n",
              "      <td>23.3</td>\n",
              "      <td>0.672</td>\n",
              "      <td>32</td>\n",
              "      <td>1</td>\n",
              "    </tr>\n",
              "    <tr>\n",
              "      <th>3</th>\n",
              "      <td>1</td>\n",
              "      <td>89</td>\n",
              "      <td>66</td>\n",
              "      <td>23</td>\n",
              "      <td>94</td>\n",
              "      <td>28.1</td>\n",
              "      <td>0.167</td>\n",
              "      <td>21</td>\n",
              "      <td>0</td>\n",
              "    </tr>\n",
              "    <tr>\n",
              "      <th>4</th>\n",
              "      <td>0</td>\n",
              "      <td>137</td>\n",
              "      <td>40</td>\n",
              "      <td>35</td>\n",
              "      <td>168</td>\n",
              "      <td>43.1</td>\n",
              "      <td>2.288</td>\n",
              "      <td>33</td>\n",
              "      <td>1</td>\n",
              "    </tr>\n",
              "    <tr>\n",
              "      <th>...</th>\n",
              "      <td>...</td>\n",
              "      <td>...</td>\n",
              "      <td>...</td>\n",
              "      <td>...</td>\n",
              "      <td>...</td>\n",
              "      <td>...</td>\n",
              "      <td>...</td>\n",
              "      <td>...</td>\n",
              "      <td>...</td>\n",
              "    </tr>\n",
              "    <tr>\n",
              "      <th>763</th>\n",
              "      <td>10</td>\n",
              "      <td>101</td>\n",
              "      <td>76</td>\n",
              "      <td>48</td>\n",
              "      <td>180</td>\n",
              "      <td>32.9</td>\n",
              "      <td>0.171</td>\n",
              "      <td>63</td>\n",
              "      <td>0</td>\n",
              "    </tr>\n",
              "    <tr>\n",
              "      <th>764</th>\n",
              "      <td>2</td>\n",
              "      <td>122</td>\n",
              "      <td>70</td>\n",
              "      <td>27</td>\n",
              "      <td>0</td>\n",
              "      <td>36.8</td>\n",
              "      <td>0.340</td>\n",
              "      <td>27</td>\n",
              "      <td>0</td>\n",
              "    </tr>\n",
              "    <tr>\n",
              "      <th>765</th>\n",
              "      <td>5</td>\n",
              "      <td>121</td>\n",
              "      <td>72</td>\n",
              "      <td>23</td>\n",
              "      <td>112</td>\n",
              "      <td>26.2</td>\n",
              "      <td>0.245</td>\n",
              "      <td>30</td>\n",
              "      <td>0</td>\n",
              "    </tr>\n",
              "    <tr>\n",
              "      <th>766</th>\n",
              "      <td>1</td>\n",
              "      <td>126</td>\n",
              "      <td>60</td>\n",
              "      <td>0</td>\n",
              "      <td>0</td>\n",
              "      <td>30.1</td>\n",
              "      <td>0.349</td>\n",
              "      <td>47</td>\n",
              "      <td>1</td>\n",
              "    </tr>\n",
              "    <tr>\n",
              "      <th>767</th>\n",
              "      <td>1</td>\n",
              "      <td>93</td>\n",
              "      <td>70</td>\n",
              "      <td>31</td>\n",
              "      <td>0</td>\n",
              "      <td>30.4</td>\n",
              "      <td>0.315</td>\n",
              "      <td>23</td>\n",
              "      <td>0</td>\n",
              "    </tr>\n",
              "  </tbody>\n",
              "</table>\n",
              "<p>768 rows × 9 columns</p>\n",
              "</div>\n",
              "      <button class=\"colab-df-convert\" onclick=\"convertToInteractive('df-f0b9cebe-8af4-4435-94ee-a8f8975fb4be')\"\n",
              "              title=\"Convert this dataframe to an interactive table.\"\n",
              "              style=\"display:none;\">\n",
              "        \n",
              "  <svg xmlns=\"http://www.w3.org/2000/svg\" height=\"24px\"viewBox=\"0 0 24 24\"\n",
              "       width=\"24px\">\n",
              "    <path d=\"M0 0h24v24H0V0z\" fill=\"none\"/>\n",
              "    <path d=\"M18.56 5.44l.94 2.06.94-2.06 2.06-.94-2.06-.94-.94-2.06-.94 2.06-2.06.94zm-11 1L8.5 8.5l.94-2.06 2.06-.94-2.06-.94L8.5 2.5l-.94 2.06-2.06.94zm10 10l.94 2.06.94-2.06 2.06-.94-2.06-.94-.94-2.06-.94 2.06-2.06.94z\"/><path d=\"M17.41 7.96l-1.37-1.37c-.4-.4-.92-.59-1.43-.59-.52 0-1.04.2-1.43.59L10.3 9.45l-7.72 7.72c-.78.78-.78 2.05 0 2.83L4 21.41c.39.39.9.59 1.41.59.51 0 1.02-.2 1.41-.59l7.78-7.78 2.81-2.81c.8-.78.8-2.07 0-2.86zM5.41 20L4 18.59l7.72-7.72 1.47 1.35L5.41 20z\"/>\n",
              "  </svg>\n",
              "      </button>\n",
              "      \n",
              "  <style>\n",
              "    .colab-df-container {\n",
              "      display:flex;\n",
              "      flex-wrap:wrap;\n",
              "      gap: 12px;\n",
              "    }\n",
              "\n",
              "    .colab-df-convert {\n",
              "      background-color: #E8F0FE;\n",
              "      border: none;\n",
              "      border-radius: 50%;\n",
              "      cursor: pointer;\n",
              "      display: none;\n",
              "      fill: #1967D2;\n",
              "      height: 32px;\n",
              "      padding: 0 0 0 0;\n",
              "      width: 32px;\n",
              "    }\n",
              "\n",
              "    .colab-df-convert:hover {\n",
              "      background-color: #E2EBFA;\n",
              "      box-shadow: 0px 1px 2px rgba(60, 64, 67, 0.3), 0px 1px 3px 1px rgba(60, 64, 67, 0.15);\n",
              "      fill: #174EA6;\n",
              "    }\n",
              "\n",
              "    [theme=dark] .colab-df-convert {\n",
              "      background-color: #3B4455;\n",
              "      fill: #D2E3FC;\n",
              "    }\n",
              "\n",
              "    [theme=dark] .colab-df-convert:hover {\n",
              "      background-color: #434B5C;\n",
              "      box-shadow: 0px 1px 3px 1px rgba(0, 0, 0, 0.15);\n",
              "      filter: drop-shadow(0px 1px 2px rgba(0, 0, 0, 0.3));\n",
              "      fill: #FFFFFF;\n",
              "    }\n",
              "  </style>\n",
              "\n",
              "      <script>\n",
              "        const buttonEl =\n",
              "          document.querySelector('#df-f0b9cebe-8af4-4435-94ee-a8f8975fb4be button.colab-df-convert');\n",
              "        buttonEl.style.display =\n",
              "          google.colab.kernel.accessAllowed ? 'block' : 'none';\n",
              "\n",
              "        async function convertToInteractive(key) {\n",
              "          const element = document.querySelector('#df-f0b9cebe-8af4-4435-94ee-a8f8975fb4be');\n",
              "          const dataTable =\n",
              "            await google.colab.kernel.invokeFunction('convertToInteractive',\n",
              "                                                     [key], {});\n",
              "          if (!dataTable) return;\n",
              "\n",
              "          const docLinkHtml = 'Like what you see? Visit the ' +\n",
              "            '<a target=\"_blank\" href=https://colab.research.google.com/notebooks/data_table.ipynb>data table notebook</a>'\n",
              "            + ' to learn more about interactive tables.';\n",
              "          element.innerHTML = '';\n",
              "          dataTable['output_type'] = 'display_data';\n",
              "          await google.colab.output.renderOutput(dataTable, element);\n",
              "          const docLink = document.createElement('div');\n",
              "          docLink.innerHTML = docLinkHtml;\n",
              "          element.appendChild(docLink);\n",
              "        }\n",
              "      </script>\n",
              "    </div>\n",
              "  </div>\n",
              "  "
            ]
          },
          "metadata": {},
          "execution_count": 154
        }
      ]
    },
    {
      "cell_type": "code",
      "source": [
        "df.isnull().sum()"
      ],
      "metadata": {
        "colab": {
          "base_uri": "https://localhost:8080/"
        },
        "id": "BQAmybNFJWBu",
        "outputId": "fb49f76a-b802-46bc-8edf-44333d249f01"
      },
      "execution_count": null,
      "outputs": [
        {
          "output_type": "execute_result",
          "data": {
            "text/plain": [
              "Pregnancies                 0\n",
              "Glucose                     0\n",
              "BloodPressure               0\n",
              "SkinThickness               0\n",
              "Insulin                     0\n",
              "BMI                         0\n",
              "DiabetesPedigreeFunction    0\n",
              "Age                         0\n",
              "Outcome                     0\n",
              "dtype: int64"
            ]
          },
          "metadata": {},
          "execution_count": 155
        }
      ]
    },
    {
      "cell_type": "code",
      "source": [
        "df[df['BMI']==0].index.tolist()"
      ],
      "metadata": {
        "colab": {
          "base_uri": "https://localhost:8080/"
        },
        "id": "X7XlGi_WP_fd",
        "outputId": "39f2f4ef-2ffe-4ab2-8593-9b4d07d1bd1f"
      },
      "execution_count": null,
      "outputs": [
        {
          "output_type": "execute_result",
          "data": {
            "text/plain": [
              "[9, 49, 60, 81, 145, 371, 426, 494, 522, 684, 706]"
            ]
          },
          "metadata": {},
          "execution_count": 156
        }
      ]
    },
    {
      "cell_type": "code",
      "source": [
        "BMI_equal0 = (df['BMI'] == 0).sum()\n",
        "BMI_equal0"
      ],
      "metadata": {
        "colab": {
          "base_uri": "https://localhost:8080/"
        },
        "id": "rQLZLA7aQUCU",
        "outputId": "e3591008-287e-46ba-9b12-f73f227a849a"
      },
      "execution_count": null,
      "outputs": [
        {
          "output_type": "execute_result",
          "data": {
            "text/plain": [
              "11"
            ]
          },
          "metadata": {},
          "execution_count": 157
        }
      ]
    },
    {
      "cell_type": "code",
      "source": [
        "x = 0\n",
        "for i in df['BMI']:\n",
        "    if i == 0:\n",
        "      x += 1\n",
        "x"
      ],
      "metadata": {
        "colab": {
          "base_uri": "https://localhost:8080/"
        },
        "id": "hRG7bXU9OD_N",
        "outputId": "0cdf5236-b4a6-4d29-e6e7-8ff2d372c363"
      },
      "execution_count": null,
      "outputs": [
        {
          "output_type": "execute_result",
          "data": {
            "text/plain": [
              "11"
            ]
          },
          "metadata": {},
          "execution_count": 158
        }
      ]
    },
    {
      "cell_type": "code",
      "source": [
        "x = 0\n",
        "for i in df['Pregnancies']:\n",
        "    if i == 0:\n",
        "      x += 1\n",
        "x"
      ],
      "metadata": {
        "colab": {
          "base_uri": "https://localhost:8080/"
        },
        "id": "KhkUXSp5Rs39",
        "outputId": "0c8d190a-45f5-4b2f-bc77-fcd8cb8ab85f"
      },
      "execution_count": null,
      "outputs": [
        {
          "output_type": "execute_result",
          "data": {
            "text/plain": [
              "111"
            ]
          },
          "metadata": {},
          "execution_count": 159
        }
      ]
    },
    {
      "cell_type": "code",
      "source": [
        "df['BloodPressure'] = df['BloodPressure'].replace(0, df['BloodPressure'].mean())\n",
        "df['Pregnancies'] = df['Pregnancies'].replace(0, df['Pregnancies'].mean())\n",
        "df['Insulin'] = df['Insulin'].replace(0, df['Insulin'].mean())\n",
        "df['SkinThickness'] = df['SkinThickness'].replace(0, df['SkinThickness'].mean())\n",
        "df['BMI'] = df['BMI'].replace(0, df['BMI'].mean())"
      ],
      "metadata": {
        "id": "oyC2E7q0GOT9"
      },
      "execution_count": null,
      "outputs": []
    },
    {
      "cell_type": "code",
      "source": [
        "df"
      ],
      "metadata": {
        "colab": {
          "base_uri": "https://localhost:8080/",
          "height": 424
        },
        "id": "RjyjmflFJ0k2",
        "outputId": "140162de-d951-4da3-f771-c7721e81ee77"
      },
      "execution_count": null,
      "outputs": [
        {
          "output_type": "execute_result",
          "data": {
            "text/plain": [
              "     Pregnancies  Glucose  BloodPressure  SkinThickness     Insulin   BMI  \\\n",
              "0       6.000000      148           72.0      35.000000   79.799479  33.6   \n",
              "1       1.000000       85           66.0      29.000000   79.799479  26.6   \n",
              "2       8.000000      183           64.0      20.536458   79.799479  23.3   \n",
              "3       1.000000       89           66.0      23.000000   94.000000  28.1   \n",
              "4       3.845052      137           40.0      35.000000  168.000000  43.1   \n",
              "..           ...      ...            ...            ...         ...   ...   \n",
              "763    10.000000      101           76.0      48.000000  180.000000  32.9   \n",
              "764     2.000000      122           70.0      27.000000   79.799479  36.8   \n",
              "765     5.000000      121           72.0      23.000000  112.000000  26.2   \n",
              "766     1.000000      126           60.0      20.536458   79.799479  30.1   \n",
              "767     1.000000       93           70.0      31.000000   79.799479  30.4   \n",
              "\n",
              "     DiabetesPedigreeFunction  Age  Outcome  \n",
              "0                       0.627   50        1  \n",
              "1                       0.351   31        0  \n",
              "2                       0.672   32        1  \n",
              "3                       0.167   21        0  \n",
              "4                       2.288   33        1  \n",
              "..                        ...  ...      ...  \n",
              "763                     0.171   63        0  \n",
              "764                     0.340   27        0  \n",
              "765                     0.245   30        0  \n",
              "766                     0.349   47        1  \n",
              "767                     0.315   23        0  \n",
              "\n",
              "[768 rows x 9 columns]"
            ],
            "text/html": [
              "\n",
              "  <div id=\"df-9b3b0055-bb4e-478c-8c13-37aff5dfd2ab\">\n",
              "    <div class=\"colab-df-container\">\n",
              "      <div>\n",
              "<style scoped>\n",
              "    .dataframe tbody tr th:only-of-type {\n",
              "        vertical-align: middle;\n",
              "    }\n",
              "\n",
              "    .dataframe tbody tr th {\n",
              "        vertical-align: top;\n",
              "    }\n",
              "\n",
              "    .dataframe thead th {\n",
              "        text-align: right;\n",
              "    }\n",
              "</style>\n",
              "<table border=\"1\" class=\"dataframe\">\n",
              "  <thead>\n",
              "    <tr style=\"text-align: right;\">\n",
              "      <th></th>\n",
              "      <th>Pregnancies</th>\n",
              "      <th>Glucose</th>\n",
              "      <th>BloodPressure</th>\n",
              "      <th>SkinThickness</th>\n",
              "      <th>Insulin</th>\n",
              "      <th>BMI</th>\n",
              "      <th>DiabetesPedigreeFunction</th>\n",
              "      <th>Age</th>\n",
              "      <th>Outcome</th>\n",
              "    </tr>\n",
              "  </thead>\n",
              "  <tbody>\n",
              "    <tr>\n",
              "      <th>0</th>\n",
              "      <td>6.000000</td>\n",
              "      <td>148</td>\n",
              "      <td>72.0</td>\n",
              "      <td>35.000000</td>\n",
              "      <td>79.799479</td>\n",
              "      <td>33.6</td>\n",
              "      <td>0.627</td>\n",
              "      <td>50</td>\n",
              "      <td>1</td>\n",
              "    </tr>\n",
              "    <tr>\n",
              "      <th>1</th>\n",
              "      <td>1.000000</td>\n",
              "      <td>85</td>\n",
              "      <td>66.0</td>\n",
              "      <td>29.000000</td>\n",
              "      <td>79.799479</td>\n",
              "      <td>26.6</td>\n",
              "      <td>0.351</td>\n",
              "      <td>31</td>\n",
              "      <td>0</td>\n",
              "    </tr>\n",
              "    <tr>\n",
              "      <th>2</th>\n",
              "      <td>8.000000</td>\n",
              "      <td>183</td>\n",
              "      <td>64.0</td>\n",
              "      <td>20.536458</td>\n",
              "      <td>79.799479</td>\n",
              "      <td>23.3</td>\n",
              "      <td>0.672</td>\n",
              "      <td>32</td>\n",
              "      <td>1</td>\n",
              "    </tr>\n",
              "    <tr>\n",
              "      <th>3</th>\n",
              "      <td>1.000000</td>\n",
              "      <td>89</td>\n",
              "      <td>66.0</td>\n",
              "      <td>23.000000</td>\n",
              "      <td>94.000000</td>\n",
              "      <td>28.1</td>\n",
              "      <td>0.167</td>\n",
              "      <td>21</td>\n",
              "      <td>0</td>\n",
              "    </tr>\n",
              "    <tr>\n",
              "      <th>4</th>\n",
              "      <td>3.845052</td>\n",
              "      <td>137</td>\n",
              "      <td>40.0</td>\n",
              "      <td>35.000000</td>\n",
              "      <td>168.000000</td>\n",
              "      <td>43.1</td>\n",
              "      <td>2.288</td>\n",
              "      <td>33</td>\n",
              "      <td>1</td>\n",
              "    </tr>\n",
              "    <tr>\n",
              "      <th>...</th>\n",
              "      <td>...</td>\n",
              "      <td>...</td>\n",
              "      <td>...</td>\n",
              "      <td>...</td>\n",
              "      <td>...</td>\n",
              "      <td>...</td>\n",
              "      <td>...</td>\n",
              "      <td>...</td>\n",
              "      <td>...</td>\n",
              "    </tr>\n",
              "    <tr>\n",
              "      <th>763</th>\n",
              "      <td>10.000000</td>\n",
              "      <td>101</td>\n",
              "      <td>76.0</td>\n",
              "      <td>48.000000</td>\n",
              "      <td>180.000000</td>\n",
              "      <td>32.9</td>\n",
              "      <td>0.171</td>\n",
              "      <td>63</td>\n",
              "      <td>0</td>\n",
              "    </tr>\n",
              "    <tr>\n",
              "      <th>764</th>\n",
              "      <td>2.000000</td>\n",
              "      <td>122</td>\n",
              "      <td>70.0</td>\n",
              "      <td>27.000000</td>\n",
              "      <td>79.799479</td>\n",
              "      <td>36.8</td>\n",
              "      <td>0.340</td>\n",
              "      <td>27</td>\n",
              "      <td>0</td>\n",
              "    </tr>\n",
              "    <tr>\n",
              "      <th>765</th>\n",
              "      <td>5.000000</td>\n",
              "      <td>121</td>\n",
              "      <td>72.0</td>\n",
              "      <td>23.000000</td>\n",
              "      <td>112.000000</td>\n",
              "      <td>26.2</td>\n",
              "      <td>0.245</td>\n",
              "      <td>30</td>\n",
              "      <td>0</td>\n",
              "    </tr>\n",
              "    <tr>\n",
              "      <th>766</th>\n",
              "      <td>1.000000</td>\n",
              "      <td>126</td>\n",
              "      <td>60.0</td>\n",
              "      <td>20.536458</td>\n",
              "      <td>79.799479</td>\n",
              "      <td>30.1</td>\n",
              "      <td>0.349</td>\n",
              "      <td>47</td>\n",
              "      <td>1</td>\n",
              "    </tr>\n",
              "    <tr>\n",
              "      <th>767</th>\n",
              "      <td>1.000000</td>\n",
              "      <td>93</td>\n",
              "      <td>70.0</td>\n",
              "      <td>31.000000</td>\n",
              "      <td>79.799479</td>\n",
              "      <td>30.4</td>\n",
              "      <td>0.315</td>\n",
              "      <td>23</td>\n",
              "      <td>0</td>\n",
              "    </tr>\n",
              "  </tbody>\n",
              "</table>\n",
              "<p>768 rows × 9 columns</p>\n",
              "</div>\n",
              "      <button class=\"colab-df-convert\" onclick=\"convertToInteractive('df-9b3b0055-bb4e-478c-8c13-37aff5dfd2ab')\"\n",
              "              title=\"Convert this dataframe to an interactive table.\"\n",
              "              style=\"display:none;\">\n",
              "        \n",
              "  <svg xmlns=\"http://www.w3.org/2000/svg\" height=\"24px\"viewBox=\"0 0 24 24\"\n",
              "       width=\"24px\">\n",
              "    <path d=\"M0 0h24v24H0V0z\" fill=\"none\"/>\n",
              "    <path d=\"M18.56 5.44l.94 2.06.94-2.06 2.06-.94-2.06-.94-.94-2.06-.94 2.06-2.06.94zm-11 1L8.5 8.5l.94-2.06 2.06-.94-2.06-.94L8.5 2.5l-.94 2.06-2.06.94zm10 10l.94 2.06.94-2.06 2.06-.94-2.06-.94-.94-2.06-.94 2.06-2.06.94z\"/><path d=\"M17.41 7.96l-1.37-1.37c-.4-.4-.92-.59-1.43-.59-.52 0-1.04.2-1.43.59L10.3 9.45l-7.72 7.72c-.78.78-.78 2.05 0 2.83L4 21.41c.39.39.9.59 1.41.59.51 0 1.02-.2 1.41-.59l7.78-7.78 2.81-2.81c.8-.78.8-2.07 0-2.86zM5.41 20L4 18.59l7.72-7.72 1.47 1.35L5.41 20z\"/>\n",
              "  </svg>\n",
              "      </button>\n",
              "      \n",
              "  <style>\n",
              "    .colab-df-container {\n",
              "      display:flex;\n",
              "      flex-wrap:wrap;\n",
              "      gap: 12px;\n",
              "    }\n",
              "\n",
              "    .colab-df-convert {\n",
              "      background-color: #E8F0FE;\n",
              "      border: none;\n",
              "      border-radius: 50%;\n",
              "      cursor: pointer;\n",
              "      display: none;\n",
              "      fill: #1967D2;\n",
              "      height: 32px;\n",
              "      padding: 0 0 0 0;\n",
              "      width: 32px;\n",
              "    }\n",
              "\n",
              "    .colab-df-convert:hover {\n",
              "      background-color: #E2EBFA;\n",
              "      box-shadow: 0px 1px 2px rgba(60, 64, 67, 0.3), 0px 1px 3px 1px rgba(60, 64, 67, 0.15);\n",
              "      fill: #174EA6;\n",
              "    }\n",
              "\n",
              "    [theme=dark] .colab-df-convert {\n",
              "      background-color: #3B4455;\n",
              "      fill: #D2E3FC;\n",
              "    }\n",
              "\n",
              "    [theme=dark] .colab-df-convert:hover {\n",
              "      background-color: #434B5C;\n",
              "      box-shadow: 0px 1px 3px 1px rgba(0, 0, 0, 0.15);\n",
              "      filter: drop-shadow(0px 1px 2px rgba(0, 0, 0, 0.3));\n",
              "      fill: #FFFFFF;\n",
              "    }\n",
              "  </style>\n",
              "\n",
              "      <script>\n",
              "        const buttonEl =\n",
              "          document.querySelector('#df-9b3b0055-bb4e-478c-8c13-37aff5dfd2ab button.colab-df-convert');\n",
              "        buttonEl.style.display =\n",
              "          google.colab.kernel.accessAllowed ? 'block' : 'none';\n",
              "\n",
              "        async function convertToInteractive(key) {\n",
              "          const element = document.querySelector('#df-9b3b0055-bb4e-478c-8c13-37aff5dfd2ab');\n",
              "          const dataTable =\n",
              "            await google.colab.kernel.invokeFunction('convertToInteractive',\n",
              "                                                     [key], {});\n",
              "          if (!dataTable) return;\n",
              "\n",
              "          const docLinkHtml = 'Like what you see? Visit the ' +\n",
              "            '<a target=\"_blank\" href=https://colab.research.google.com/notebooks/data_table.ipynb>data table notebook</a>'\n",
              "            + ' to learn more about interactive tables.';\n",
              "          element.innerHTML = '';\n",
              "          dataTable['output_type'] = 'display_data';\n",
              "          await google.colab.output.renderOutput(dataTable, element);\n",
              "          const docLink = document.createElement('div');\n",
              "          docLink.innerHTML = docLinkHtml;\n",
              "          element.appendChild(docLink);\n",
              "        }\n",
              "      </script>\n",
              "    </div>\n",
              "  </div>\n",
              "  "
            ]
          },
          "metadata": {},
          "execution_count": 161
        }
      ]
    },
    {
      "cell_type": "code",
      "source": [
        "feature_attribute = ['Pregnancies', 'Glucose', 'BloodPressure', 'SkinThickness', 'Insulin', 'BMI', 'DiabetesPedigreeFunction', 'Age']\n",
        "value_target = ['Outcome']\n",
        "\n",
        "x = df[feature_attribute]\n",
        "y = df[value_target]"
      ],
      "metadata": {
        "id": "9PDxAYuvJ3E8"
      },
      "execution_count": null,
      "outputs": []
    },
    {
      "cell_type": "code",
      "source": [
        "from sklearn.model_selection import train_test_split\n",
        "x_train, x_test, y_train, y_test = train_test_split(x, y, test_size=0.2, random_state=4)"
      ],
      "metadata": {
        "id": "L4iWEpryKkFd"
      },
      "execution_count": null,
      "outputs": []
    },
    {
      "cell_type": "code",
      "source": [
        "from sklearn.tree import DecisionTreeClassifier\n",
        "diabates_Prediction1 = DecisionTreeClassifier()\n",
        "diabates_Prediction1.fit(x_train, y_train)\n",
        "prediction_1 = diabates_Prediction1.predict(x_test)"
      ],
      "metadata": {
        "id": "4o-QQtyKF4D1"
      },
      "execution_count": null,
      "outputs": []
    },
    {
      "cell_type": "code",
      "source": [
        "prediction_1"
      ],
      "metadata": {
        "colab": {
          "base_uri": "https://localhost:8080/"
        },
        "id": "U64CAeW0Inil",
        "outputId": "2521d0d8-fc96-4bd9-e490-60d33491064b"
      },
      "execution_count": null,
      "outputs": [
        {
          "output_type": "execute_result",
          "data": {
            "text/plain": [
              "array([1, 1, 0, 0, 0, 0, 1, 1, 1, 0, 0, 0, 0, 0, 1, 0, 1, 1, 0, 0, 0, 1,\n",
              "       0, 0, 0, 1, 0, 1, 1, 0, 1, 0, 0, 0, 0, 0, 1, 1, 0, 1, 1, 1, 0, 1,\n",
              "       0, 0, 1, 1, 0, 0, 0, 1, 0, 0, 0, 0, 0, 0, 0, 0, 1, 0, 1, 0, 0, 0,\n",
              "       0, 0, 0, 1, 0, 1, 1, 0, 0, 1, 0, 0, 0, 1, 1, 1, 0, 1, 1, 0, 0, 1,\n",
              "       1, 0, 0, 0, 1, 0, 0, 0, 0, 0, 1, 1, 0, 1, 0, 1, 1, 0, 1, 1, 0, 0,\n",
              "       1, 1, 1, 0, 1, 1, 0, 0, 0, 1, 0, 0, 0, 0, 0, 0, 0, 0, 0, 0, 1, 0,\n",
              "       0, 0, 1, 0, 0, 0, 1, 1, 0, 0, 0, 1, 1, 0, 1, 0, 0, 1, 0, 1, 0, 1])"
            ]
          },
          "metadata": {},
          "execution_count": 165
        }
      ]
    },
    {
      "cell_type": "code",
      "source": [
        "from sklearn.metrics import confusion_matrix\n",
        "cm = confusion_matrix(y_test, prediction_1)\n",
        "cm"
      ],
      "metadata": {
        "colab": {
          "base_uri": "https://localhost:8080/"
        },
        "id": "RyrhDQPBFNlM",
        "outputId": "1fdc7246-13c0-4654-9c2d-f537dcda13e8"
      },
      "execution_count": null,
      "outputs": [
        {
          "output_type": "execute_result",
          "data": {
            "text/plain": [
              "array([[75, 27],\n",
              "       [20, 32]])"
            ]
          },
          "metadata": {},
          "execution_count": 166
        }
      ]
    },
    {
      "cell_type": "code",
      "source": [
        "accuracy = diabates_Prediction1.score(x_test, y_test)*100\n",
        "accuracy"
      ],
      "metadata": {
        "colab": {
          "base_uri": "https://localhost:8080/"
        },
        "id": "tNZHDk-dNMO0",
        "outputId": "2e43e3b8-e4b4-4957-a32e-c7a55b20afd3"
      },
      "execution_count": null,
      "outputs": [
        {
          "output_type": "execute_result",
          "data": {
            "text/plain": [
              "69.48051948051948"
            ]
          },
          "metadata": {},
          "execution_count": 167
        }
      ]
    },
    {
      "cell_type": "code",
      "source": [
        ""
      ],
      "metadata": {
        "id": "HgHM40kzYEnE"
      },
      "execution_count": null,
      "outputs": []
    },
    {
      "cell_type": "code",
      "source": [
        "X_train, X_test, Y_train, Y_test = train_test_split(x, y, test_size=0.2, random_state=4)"
      ],
      "metadata": {
        "id": "4GWnYdvbUV9c"
      },
      "execution_count": null,
      "outputs": []
    },
    {
      "cell_type": "code",
      "source": [
        "from sklearn.ensemble import RandomForestClassifier\n",
        "diabates_Prediction2 = RandomForestClassifier()\n",
        "diabates_Prediction2.fit(X_train, Y_train)\n",
        "prediction_2 = diabates_Prediction2.predict(X_test)"
      ],
      "metadata": {
        "colab": {
          "base_uri": "https://localhost:8080/"
        },
        "id": "pvkQsrKwUFQL",
        "outputId": "f520d3e6-40f6-477d-d41a-1463af085107"
      },
      "execution_count": null,
      "outputs": [
        {
          "output_type": "stream",
          "name": "stderr",
          "text": [
            "/usr/local/lib/python3.7/dist-packages/ipykernel_launcher.py:3: DataConversionWarning: A column-vector y was passed when a 1d array was expected. Please change the shape of y to (n_samples,), for example using ravel().\n",
            "  This is separate from the ipykernel package so we can avoid doing imports until\n"
          ]
        }
      ]
    },
    {
      "cell_type": "code",
      "source": [
        "prediction_2"
      ],
      "metadata": {
        "colab": {
          "base_uri": "https://localhost:8080/"
        },
        "id": "9gX3n-LQUrMc",
        "outputId": "94d91e33-5642-4090-ece7-935dc3a65d54"
      },
      "execution_count": null,
      "outputs": [
        {
          "output_type": "execute_result",
          "data": {
            "text/plain": [
              "array([0, 0, 0, 0, 0, 1, 1, 0, 1, 0, 0, 0, 0, 0, 0, 1, 1, 1, 0, 0, 0, 1,\n",
              "       0, 1, 0, 0, 0, 0, 0, 0, 1, 0, 0, 0, 0, 0, 1, 1, 0, 1, 1, 1, 0, 1,\n",
              "       0, 0, 0, 1, 0, 0, 1, 0, 0, 1, 1, 0, 0, 0, 0, 1, 1, 0, 1, 0, 0, 0,\n",
              "       0, 1, 0, 0, 0, 1, 0, 0, 0, 1, 0, 0, 0, 0, 1, 1, 0, 1, 1, 0, 0, 1,\n",
              "       0, 0, 0, 0, 0, 0, 0, 0, 0, 0, 1, 1, 0, 1, 0, 0, 1, 1, 0, 1, 0, 0,\n",
              "       1, 1, 1, 0, 0, 0, 0, 1, 0, 1, 0, 0, 0, 0, 0, 0, 0, 0, 0, 1, 0, 0,\n",
              "       0, 0, 1, 0, 0, 0, 1, 1, 0, 0, 0, 0, 1, 1, 1, 1, 0, 1, 0, 0, 1, 0])"
            ]
          },
          "metadata": {},
          "execution_count": 170
        }
      ]
    },
    {
      "cell_type": "code",
      "source": [
        "accuracyRF = diabates_Prediction2.score(X_test, Y_test)*100\n",
        "accuracyRF"
      ],
      "metadata": {
        "colab": {
          "base_uri": "https://localhost:8080/"
        },
        "id": "hGVroI51UuJb",
        "outputId": "7f46f94b-ebac-4811-9787-272dd8040c87"
      },
      "execution_count": null,
      "outputs": [
        {
          "output_type": "execute_result",
          "data": {
            "text/plain": [
              "77.27272727272727"
            ]
          },
          "metadata": {},
          "execution_count": 171
        }
      ]
    },
    {
      "cell_type": "code",
      "source": [
        "from sklearn.metrics import confusion_matrix\n",
        "cm1 = confusion_matrix(Y_test, prediction_2)\n",
        "cm1"
      ],
      "metadata": {
        "colab": {
          "base_uri": "https://localhost:8080/"
        },
        "id": "1iDdCDA9Vtwr",
        "outputId": "44d477ca-5fe1-4144-da73-faf607708b4f"
      },
      "execution_count": null,
      "outputs": [
        {
          "output_type": "execute_result",
          "data": {
            "text/plain": [
              "array([[85, 17],\n",
              "       [18, 34]])"
            ]
          },
          "metadata": {},
          "execution_count": 172
        }
      ]
    },
    {
      "cell_type": "code",
      "source": [
        "from sklearn.svm import SVC\n",
        "diabates_Prediction3 = RandomForestClassifier()\n",
        "diabates_Prediction3.fit(X_train, Y_train)\n",
        "prediction_3 = diabates_Prediction3.predict(X_test)"
      ],
      "metadata": {
        "id": "BrwWBkPdXlFM"
      },
      "execution_count": null,
      "outputs": []
    },
    {
      "cell_type": "code",
      "source": [
        "prediction_3"
      ],
      "metadata": {
        "id": "F8Y2wNaKZ6Hs"
      },
      "execution_count": null,
      "outputs": []
    },
    {
      "cell_type": "code",
      "source": [
        "accuracySVM = diabates_Prediction3.score(X_test, Y_test)*100\n",
        "accuracySVM"
      ],
      "metadata": {
        "colab": {
          "base_uri": "https://localhost:8080/"
        },
        "id": "o2NJvFoBaA8L",
        "outputId": "b1d21c5b-526e-435f-b64b-e582e8b05fb7"
      },
      "execution_count": null,
      "outputs": [
        {
          "output_type": "execute_result",
          "data": {
            "text/plain": [
              "75.32467532467533"
            ]
          },
          "metadata": {},
          "execution_count": 179
        }
      ]
    },
    {
      "cell_type": "code",
      "source": [
        "from sklearn.metrics import confusion_matrix\n",
        "cm2 = confusion_matrix(Y_test, prediction_3)\n",
        "cm2"
      ],
      "metadata": {
        "colab": {
          "base_uri": "https://localhost:8080/"
        },
        "id": "SgqgbcnyaJa7",
        "outputId": "09b9b89c-8715-4044-8dbb-a14110c07326"
      },
      "execution_count": null,
      "outputs": [
        {
          "output_type": "execute_result",
          "data": {
            "text/plain": [
              "array([[83, 19],\n",
              "       [19, 33]])"
            ]
          },
          "metadata": {},
          "execution_count": 180
        }
      ]
    },
    {
      "cell_type": "code",
      "source": [
        "import matplotlib.pyplot as plt\n",
        "from sklearn import tree\n",
        "plt.figure(figsize=(12, 8))\n",
        "tree.plot_tree(diabates_Prediction1.fit(x_train, y_train))"
      ],
      "metadata": {
        "colab": {
          "base_uri": "https://localhost:8080/",
          "height": 1000
        },
        "id": "uaUeAL-GabYS",
        "outputId": "dc6a77dd-daae-4def-f96f-911e6634798b"
      },
      "execution_count": null,
      "outputs": [
        {
          "output_type": "execute_result",
          "data": {
            "text/plain": [
              "[Text(0.48515625, 0.96875, 'X[1] <= 127.5\\ngini = 0.456\\nsamples = 614\\nvalue = [398, 216]'),\n",
              " Text(0.24110576923076923, 0.90625, 'X[7] <= 28.5\\ngini = 0.333\\nsamples = 393\\nvalue = [310, 83]'),\n",
              " Text(0.09134615384615384, 0.84375, 'X[5] <= 33.25\\ngini = 0.152\\nsamples = 218\\nvalue = [200, 18]'),\n",
              " Text(0.038461538461538464, 0.78125, 'X[0] <= 7.5\\ngini = 0.055\\nsamples = 142\\nvalue = [138, 4]'),\n",
              " Text(0.03076923076923077, 0.71875, 'X[5] <= 30.95\\ngini = 0.042\\nsamples = 141\\nvalue = [138, 3]'),\n",
              " Text(0.015384615384615385, 0.65625, 'X[6] <= 0.668\\ngini = 0.017\\nsamples = 116\\nvalue = [115, 1]'),\n",
              " Text(0.007692307692307693, 0.59375, 'gini = 0.0\\nsamples = 101\\nvalue = [101, 0]'),\n",
              " Text(0.023076923076923078, 0.59375, 'X[6] <= 0.686\\ngini = 0.124\\nsamples = 15\\nvalue = [14, 1]'),\n",
              " Text(0.015384615384615385, 0.53125, 'gini = 0.0\\nsamples = 1\\nvalue = [0, 1]'),\n",
              " Text(0.03076923076923077, 0.53125, 'gini = 0.0\\nsamples = 14\\nvalue = [14, 0]'),\n",
              " Text(0.046153846153846156, 0.65625, 'X[2] <= 51.0\\ngini = 0.147\\nsamples = 25\\nvalue = [23, 2]'),\n",
              " Text(0.038461538461538464, 0.59375, 'gini = 0.0\\nsamples = 1\\nvalue = [0, 1]'),\n",
              " Text(0.05384615384615385, 0.59375, 'X[1] <= 118.5\\ngini = 0.08\\nsamples = 24\\nvalue = [23, 1]'),\n",
              " Text(0.046153846153846156, 0.53125, 'gini = 0.0\\nsamples = 22\\nvalue = [22, 0]'),\n",
              " Text(0.06153846153846154, 0.53125, 'X[1] <= 121.5\\ngini = 0.5\\nsamples = 2\\nvalue = [1, 1]'),\n",
              " Text(0.05384615384615385, 0.46875, 'gini = 0.0\\nsamples = 1\\nvalue = [0, 1]'),\n",
              " Text(0.06923076923076923, 0.46875, 'gini = 0.0\\nsamples = 1\\nvalue = [1, 0]'),\n",
              " Text(0.046153846153846156, 0.71875, 'gini = 0.0\\nsamples = 1\\nvalue = [0, 1]'),\n",
              " Text(0.14423076923076922, 0.78125, 'X[6] <= 0.49\\ngini = 0.301\\nsamples = 76\\nvalue = [62, 14]'),\n",
              " Text(0.1076923076923077, 0.71875, 'X[2] <= 94.0\\ngini = 0.124\\nsamples = 45\\nvalue = [42, 3]'),\n",
              " Text(0.1, 0.65625, 'X[2] <= 55.0\\ngini = 0.087\\nsamples = 44\\nvalue = [42, 2]'),\n",
              " Text(0.08461538461538462, 0.59375, 'X[0] <= 2.5\\ngini = 0.444\\nsamples = 3\\nvalue = [2, 1]'),\n",
              " Text(0.07692307692307693, 0.53125, 'gini = 0.0\\nsamples = 2\\nvalue = [2, 0]'),\n",
              " Text(0.09230769230769231, 0.53125, 'gini = 0.0\\nsamples = 1\\nvalue = [0, 1]'),\n",
              " Text(0.11538461538461539, 0.59375, 'X[2] <= 83.5\\ngini = 0.048\\nsamples = 41\\nvalue = [40, 1]'),\n",
              " Text(0.1076923076923077, 0.53125, 'gini = 0.0\\nsamples = 38\\nvalue = [38, 0]'),\n",
              " Text(0.12307692307692308, 0.53125, 'X[4] <= 46.0\\ngini = 0.444\\nsamples = 3\\nvalue = [2, 1]'),\n",
              " Text(0.11538461538461539, 0.46875, 'gini = 0.0\\nsamples = 1\\nvalue = [0, 1]'),\n",
              " Text(0.13076923076923078, 0.46875, 'gini = 0.0\\nsamples = 2\\nvalue = [2, 0]'),\n",
              " Text(0.11538461538461539, 0.65625, 'gini = 0.0\\nsamples = 1\\nvalue = [0, 1]'),\n",
              " Text(0.18076923076923077, 0.71875, 'X[7] <= 25.5\\ngini = 0.458\\nsamples = 31\\nvalue = [20, 11]'),\n",
              " Text(0.16153846153846155, 0.65625, 'X[5] <= 33.65\\ngini = 0.375\\nsamples = 24\\nvalue = [18, 6]'),\n",
              " Text(0.14615384615384616, 0.59375, 'X[4] <= 60.0\\ngini = 0.444\\nsamples = 3\\nvalue = [1, 2]'),\n",
              " Text(0.13846153846153847, 0.53125, 'gini = 0.0\\nsamples = 1\\nvalue = [1, 0]'),\n",
              " Text(0.15384615384615385, 0.53125, 'gini = 0.0\\nsamples = 2\\nvalue = [0, 2]'),\n",
              " Text(0.17692307692307693, 0.59375, 'X[1] <= 91.5\\ngini = 0.308\\nsamples = 21\\nvalue = [17, 4]'),\n",
              " Text(0.16923076923076924, 0.53125, 'gini = 0.0\\nsamples = 5\\nvalue = [5, 0]'),\n",
              " Text(0.18461538461538463, 0.53125, 'X[1] <= 95.0\\ngini = 0.375\\nsamples = 16\\nvalue = [12, 4]'),\n",
              " Text(0.17692307692307693, 0.46875, 'gini = 0.0\\nsamples = 1\\nvalue = [0, 1]'),\n",
              " Text(0.19230769230769232, 0.46875, 'X[0] <= 4.423\\ngini = 0.32\\nsamples = 15\\nvalue = [12, 3]'),\n",
              " Text(0.18461538461538463, 0.40625, 'X[3] <= 31.0\\ngini = 0.245\\nsamples = 14\\nvalue = [12, 2]'),\n",
              " Text(0.17692307692307693, 0.34375, 'X[4] <= 85.9\\ngini = 0.444\\nsamples = 6\\nvalue = [4, 2]'),\n",
              " Text(0.16923076923076924, 0.28125, 'X[5] <= 44.1\\ngini = 0.444\\nsamples = 3\\nvalue = [1, 2]'),\n",
              " Text(0.16153846153846155, 0.21875, 'gini = 0.0\\nsamples = 2\\nvalue = [0, 2]'),\n",
              " Text(0.17692307692307693, 0.21875, 'gini = 0.0\\nsamples = 1\\nvalue = [1, 0]'),\n",
              " Text(0.18461538461538463, 0.28125, 'gini = 0.0\\nsamples = 3\\nvalue = [3, 0]'),\n",
              " Text(0.19230769230769232, 0.34375, 'gini = 0.0\\nsamples = 8\\nvalue = [8, 0]'),\n",
              " Text(0.2, 0.40625, 'gini = 0.0\\nsamples = 1\\nvalue = [0, 1]'),\n",
              " Text(0.2, 0.65625, 'X[4] <= 132.0\\ngini = 0.408\\nsamples = 7\\nvalue = [2, 5]'),\n",
              " Text(0.19230769230769232, 0.59375, 'gini = 0.0\\nsamples = 4\\nvalue = [0, 4]'),\n",
              " Text(0.2076923076923077, 0.59375, 'X[7] <= 27.5\\ngini = 0.444\\nsamples = 3\\nvalue = [2, 1]'),\n",
              " Text(0.2, 0.53125, 'gini = 0.0\\nsamples = 2\\nvalue = [2, 0]'),\n",
              " Text(0.2153846153846154, 0.53125, 'gini = 0.0\\nsamples = 1\\nvalue = [0, 1]'),\n",
              " Text(0.3908653846153846, 0.84375, 'X[5] <= 26.8\\ngini = 0.467\\nsamples = 175\\nvalue = [110, 65]'),\n",
              " Text(0.38317307692307695, 0.78125, 'gini = 0.0\\nsamples = 32\\nvalue = [32, 0]'),\n",
              " Text(0.39855769230769234, 0.78125, 'X[4] <= 79.4\\ngini = 0.496\\nsamples = 143\\nvalue = [78, 65]'),\n",
              " Text(0.3908653846153846, 0.71875, 'gini = 0.0\\nsamples = 15\\nvalue = [15, 0]'),\n",
              " Text(0.40625, 0.71875, 'X[6] <= 0.625\\ngini = 0.5\\nsamples = 128\\nvalue = [63, 65]'),\n",
              " Text(0.3278846153846154, 0.65625, 'X[1] <= 111.5\\ngini = 0.481\\nsamples = 97\\nvalue = [58, 39]'),\n",
              " Text(0.24807692307692308, 0.59375, 'X[5] <= 27.65\\ngini = 0.401\\nsamples = 54\\nvalue = [39, 15]'),\n",
              " Text(0.2403846153846154, 0.53125, 'gini = 0.0\\nsamples = 2\\nvalue = [0, 2]'),\n",
              " Text(0.25576923076923075, 0.53125, 'X[3] <= 37.0\\ngini = 0.375\\nsamples = 52\\nvalue = [39, 13]'),\n",
              " Text(0.24807692307692308, 0.46875, 'X[1] <= 93.5\\ngini = 0.422\\nsamples = 43\\nvalue = [30, 13]'),\n",
              " Text(0.2153846153846154, 0.40625, 'X[3] <= 30.5\\ngini = 0.219\\nsamples = 16\\nvalue = [14, 2]'),\n",
              " Text(0.2076923076923077, 0.34375, 'gini = 0.0\\nsamples = 13\\nvalue = [13, 0]'),\n",
              " Text(0.2230769230769231, 0.34375, 'X[2] <= 67.0\\ngini = 0.444\\nsamples = 3\\nvalue = [1, 2]'),\n",
              " Text(0.2153846153846154, 0.28125, 'gini = 0.0\\nsamples = 1\\nvalue = [1, 0]'),\n",
              " Text(0.23076923076923078, 0.28125, 'gini = 0.0\\nsamples = 2\\nvalue = [0, 2]'),\n",
              " Text(0.28076923076923077, 0.40625, 'X[1] <= 105.5\\ngini = 0.483\\nsamples = 27\\nvalue = [16, 11]'),\n",
              " Text(0.26153846153846155, 0.34375, 'X[7] <= 47.0\\ngini = 0.494\\nsamples = 18\\nvalue = [8, 10]'),\n",
              " Text(0.24615384615384617, 0.28125, 'X[4] <= 187.0\\ngini = 0.426\\nsamples = 13\\nvalue = [4, 9]'),\n",
              " Text(0.23846153846153847, 0.21875, 'X[5] <= 30.4\\ngini = 0.375\\nsamples = 12\\nvalue = [3, 9]'),\n",
              " Text(0.2230769230769231, 0.15625, 'X[2] <= 71.553\\ngini = 0.444\\nsamples = 3\\nvalue = [2, 1]'),\n",
              " Text(0.2153846153846154, 0.09375, 'gini = 0.0\\nsamples = 1\\nvalue = [0, 1]'),\n",
              " Text(0.23076923076923078, 0.09375, 'gini = 0.0\\nsamples = 2\\nvalue = [2, 0]'),\n",
              " Text(0.25384615384615383, 0.15625, 'X[6] <= 0.211\\ngini = 0.198\\nsamples = 9\\nvalue = [1, 8]'),\n",
              " Text(0.24615384615384617, 0.09375, 'X[7] <= 39.0\\ngini = 0.444\\nsamples = 3\\nvalue = [1, 2]'),\n",
              " Text(0.23846153846153847, 0.03125, 'gini = 0.0\\nsamples = 2\\nvalue = [0, 2]'),\n",
              " Text(0.25384615384615383, 0.03125, 'gini = 0.0\\nsamples = 1\\nvalue = [1, 0]'),\n",
              " Text(0.26153846153846155, 0.09375, 'gini = 0.0\\nsamples = 6\\nvalue = [0, 6]'),\n",
              " Text(0.25384615384615383, 0.21875, 'gini = 0.0\\nsamples = 1\\nvalue = [1, 0]'),\n",
              " Text(0.27692307692307694, 0.28125, 'X[2] <= 75.0\\ngini = 0.32\\nsamples = 5\\nvalue = [4, 1]'),\n",
              " Text(0.2692307692307692, 0.21875, 'gini = 0.0\\nsamples = 3\\nvalue = [3, 0]'),\n",
              " Text(0.2846153846153846, 0.21875, 'X[5] <= 35.5\\ngini = 0.5\\nsamples = 2\\nvalue = [1, 1]'),\n",
              " Text(0.27692307692307694, 0.15625, 'gini = 0.0\\nsamples = 1\\nvalue = [1, 0]'),\n",
              " Text(0.2923076923076923, 0.15625, 'gini = 0.0\\nsamples = 1\\nvalue = [0, 1]'),\n",
              " Text(0.3, 0.34375, 'X[0] <= 9.5\\ngini = 0.198\\nsamples = 9\\nvalue = [8, 1]'),\n",
              " Text(0.2923076923076923, 0.28125, 'gini = 0.0\\nsamples = 7\\nvalue = [7, 0]'),\n",
              " Text(0.3076923076923077, 0.28125, 'X[7] <= 47.0\\ngini = 0.5\\nsamples = 2\\nvalue = [1, 1]'),\n",
              " Text(0.3, 0.21875, 'gini = 0.0\\nsamples = 1\\nvalue = [0, 1]'),\n",
              " Text(0.3153846153846154, 0.21875, 'gini = 0.0\\nsamples = 1\\nvalue = [1, 0]'),\n",
              " Text(0.26346153846153847, 0.46875, 'gini = 0.0\\nsamples = 9\\nvalue = [9, 0]'),\n",
              " Text(0.4076923076923077, 0.59375, 'X[5] <= 34.65\\ngini = 0.493\\nsamples = 43\\nvalue = [19, 24]'),\n",
              " Text(0.3769230769230769, 0.53125, 'X[6] <= 0.111\\ngini = 0.437\\nsamples = 31\\nvalue = [10, 21]'),\n",
              " Text(0.36923076923076925, 0.46875, 'gini = 0.0\\nsamples = 2\\nvalue = [2, 0]'),\n",
              " Text(0.38461538461538464, 0.46875, 'X[2] <= 77.0\\ngini = 0.4\\nsamples = 29\\nvalue = [8, 21]'),\n",
              " Text(0.36153846153846153, 0.40625, 'X[3] <= 41.5\\ngini = 0.266\\nsamples = 19\\nvalue = [3, 16]'),\n",
              " Text(0.35384615384615387, 0.34375, 'X[4] <= 117.5\\ngini = 0.198\\nsamples = 18\\nvalue = [2, 16]'),\n",
              " Text(0.3384615384615385, 0.28125, 'X[0] <= 9.0\\ngini = 0.117\\nsamples = 16\\nvalue = [1, 15]'),\n",
              " Text(0.33076923076923076, 0.21875, 'gini = 0.0\\nsamples = 13\\nvalue = [0, 13]'),\n",
              " Text(0.34615384615384615, 0.21875, 'X[2] <= 68.553\\ngini = 0.444\\nsamples = 3\\nvalue = [1, 2]'),\n",
              " Text(0.3384615384615385, 0.15625, 'gini = 0.0\\nsamples = 1\\nvalue = [1, 0]'),\n",
              " Text(0.35384615384615387, 0.15625, 'gini = 0.0\\nsamples = 2\\nvalue = [0, 2]'),\n",
              " Text(0.36923076923076925, 0.28125, 'X[4] <= 142.5\\ngini = 0.5\\nsamples = 2\\nvalue = [1, 1]'),\n",
              " Text(0.36153846153846153, 0.21875, 'gini = 0.0\\nsamples = 1\\nvalue = [1, 0]'),\n",
              " Text(0.3769230769230769, 0.21875, 'gini = 0.0\\nsamples = 1\\nvalue = [0, 1]'),\n",
              " Text(0.36923076923076925, 0.34375, 'gini = 0.0\\nsamples = 1\\nvalue = [1, 0]'),\n",
              " Text(0.4076923076923077, 0.40625, 'X[3] <= 22.268\\ngini = 0.5\\nsamples = 10\\nvalue = [5, 5]'),\n",
              " Text(0.3923076923076923, 0.34375, 'X[1] <= 124.0\\ngini = 0.32\\nsamples = 5\\nvalue = [4, 1]'),\n",
              " Text(0.38461538461538464, 0.28125, 'gini = 0.0\\nsamples = 4\\nvalue = [4, 0]'),\n",
              " Text(0.4, 0.28125, 'gini = 0.0\\nsamples = 1\\nvalue = [0, 1]'),\n",
              " Text(0.4230769230769231, 0.34375, 'X[0] <= 9.5\\ngini = 0.32\\nsamples = 5\\nvalue = [1, 4]'),\n",
              " Text(0.4153846153846154, 0.28125, 'gini = 0.0\\nsamples = 4\\nvalue = [0, 4]'),\n",
              " Text(0.4307692307692308, 0.28125, 'gini = 0.0\\nsamples = 1\\nvalue = [1, 0]'),\n",
              " Text(0.43846153846153846, 0.53125, 'X[3] <= 43.5\\ngini = 0.375\\nsamples = 12\\nvalue = [9, 3]'),\n",
              " Text(0.4307692307692308, 0.46875, 'X[2] <= 67.0\\ngini = 0.18\\nsamples = 10\\nvalue = [9, 1]'),\n",
              " Text(0.4230769230769231, 0.40625, 'gini = 0.0\\nsamples = 1\\nvalue = [0, 1]'),\n",
              " Text(0.43846153846153846, 0.40625, 'gini = 0.0\\nsamples = 9\\nvalue = [9, 0]'),\n",
              " Text(0.4461538461538462, 0.46875, 'gini = 0.0\\nsamples = 2\\nvalue = [0, 2]'),\n",
              " Text(0.4846153846153846, 0.65625, 'X[2] <= 87.0\\ngini = 0.271\\nsamples = 31\\nvalue = [5, 26]'),\n",
              " Text(0.47692307692307695, 0.59375, 'X[3] <= 21.268\\ngini = 0.185\\nsamples = 29\\nvalue = [3, 26]'),\n",
              " Text(0.46923076923076923, 0.53125, 'X[0] <= 5.0\\ngini = 0.444\\nsamples = 9\\nvalue = [3, 6]'),\n",
              " Text(0.46153846153846156, 0.46875, 'X[2] <= 69.553\\ngini = 0.48\\nsamples = 5\\nvalue = [3, 2]'),\n",
              " Text(0.45384615384615384, 0.40625, 'gini = 0.0\\nsamples = 3\\nvalue = [3, 0]'),\n",
              " Text(0.46923076923076923, 0.40625, 'gini = 0.0\\nsamples = 2\\nvalue = [0, 2]'),\n",
              " Text(0.47692307692307695, 0.46875, 'gini = 0.0\\nsamples = 4\\nvalue = [0, 4]'),\n",
              " Text(0.4846153846153846, 0.53125, 'gini = 0.0\\nsamples = 20\\nvalue = [0, 20]'),\n",
              " Text(0.49230769230769234, 0.59375, 'gini = 0.0\\nsamples = 2\\nvalue = [2, 0]'),\n",
              " Text(0.7292067307692308, 0.90625, 'X[5] <= 29.95\\ngini = 0.479\\nsamples = 221\\nvalue = [88, 133]'),\n",
              " Text(0.6038461538461538, 0.84375, 'X[1] <= 151.5\\ngini = 0.421\\nsamples = 63\\nvalue = [44, 19]'),\n",
              " Text(0.5615384615384615, 0.78125, 'X[5] <= 27.3\\ngini = 0.303\\nsamples = 43\\nvalue = [35, 8]'),\n",
              " Text(0.5307692307692308, 0.71875, 'X[2] <= 56.0\\ngini = 0.159\\nsamples = 23\\nvalue = [21, 2]'),\n",
              " Text(0.5153846153846153, 0.65625, 'X[1] <= 137.0\\ngini = 0.5\\nsamples = 2\\nvalue = [1, 1]'),\n",
              " Text(0.5076923076923077, 0.59375, 'gini = 0.0\\nsamples = 1\\nvalue = [1, 0]'),\n",
              " Text(0.5230769230769231, 0.59375, 'gini = 0.0\\nsamples = 1\\nvalue = [0, 1]'),\n",
              " Text(0.5461538461538461, 0.65625, 'X[7] <= 58.5\\ngini = 0.091\\nsamples = 21\\nvalue = [20, 1]'),\n",
              " Text(0.5384615384615384, 0.59375, 'gini = 0.0\\nsamples = 17\\nvalue = [17, 0]'),\n",
              " Text(0.5538461538461539, 0.59375, 'X[2] <= 73.0\\ngini = 0.375\\nsamples = 4\\nvalue = [3, 1]'),\n",
              " Text(0.5461538461538461, 0.53125, 'gini = 0.0\\nsamples = 1\\nvalue = [0, 1]'),\n",
              " Text(0.5615384615384615, 0.53125, 'gini = 0.0\\nsamples = 3\\nvalue = [3, 0]'),\n",
              " Text(0.5923076923076923, 0.71875, 'X[2] <= 66.553\\ngini = 0.42\\nsamples = 20\\nvalue = [14, 6]'),\n",
              " Text(0.5846153846153846, 0.65625, 'gini = 0.0\\nsamples = 7\\nvalue = [7, 0]'),\n",
              " Text(0.6, 0.65625, 'X[2] <= 81.0\\ngini = 0.497\\nsamples = 13\\nvalue = [7, 6]'),\n",
              " Text(0.5846153846153846, 0.59375, 'X[5] <= 29.7\\ngini = 0.278\\nsamples = 6\\nvalue = [1, 5]'),\n",
              " Text(0.5769230769230769, 0.53125, 'gini = 0.0\\nsamples = 5\\nvalue = [0, 5]'),\n",
              " Text(0.5923076923076923, 0.53125, 'gini = 0.0\\nsamples = 1\\nvalue = [1, 0]'),\n",
              " Text(0.6153846153846154, 0.59375, 'X[0] <= 9.0\\ngini = 0.245\\nsamples = 7\\nvalue = [6, 1]'),\n",
              " Text(0.6076923076923076, 0.53125, 'gini = 0.0\\nsamples = 6\\nvalue = [6, 0]'),\n",
              " Text(0.6230769230769231, 0.53125, 'gini = 0.0\\nsamples = 1\\nvalue = [0, 1]'),\n",
              " Text(0.6461538461538462, 0.78125, 'X[7] <= 25.5\\ngini = 0.495\\nsamples = 20\\nvalue = [9, 11]'),\n",
              " Text(0.6384615384615384, 0.71875, 'gini = 0.0\\nsamples = 3\\nvalue = [3, 0]'),\n",
              " Text(0.6538461538461539, 0.71875, 'X[5] <= 27.1\\ngini = 0.457\\nsamples = 17\\nvalue = [6, 11]'),\n",
              " Text(0.6384615384615384, 0.65625, 'X[2] <= 56.0\\ngini = 0.198\\nsamples = 9\\nvalue = [1, 8]'),\n",
              " Text(0.6307692307692307, 0.59375, 'gini = 0.0\\nsamples = 1\\nvalue = [1, 0]'),\n",
              " Text(0.6461538461538462, 0.59375, 'gini = 0.0\\nsamples = 8\\nvalue = [0, 8]'),\n",
              " Text(0.6692307692307692, 0.65625, 'X[7] <= 36.5\\ngini = 0.469\\nsamples = 8\\nvalue = [5, 3]'),\n",
              " Text(0.6615384615384615, 0.59375, 'gini = 0.0\\nsamples = 3\\nvalue = [0, 3]'),\n",
              " Text(0.676923076923077, 0.59375, 'gini = 0.0\\nsamples = 5\\nvalue = [5, 0]'),\n",
              " Text(0.8545673076923077, 0.84375, 'X[1] <= 165.5\\ngini = 0.402\\nsamples = 158\\nvalue = [44, 114]'),\n",
              " Text(0.7514423076923077, 0.78125, 'X[7] <= 24.5\\ngini = 0.463\\nsamples = 107\\nvalue = [39, 68]'),\n",
              " Text(0.7076923076923077, 0.71875, 'X[4] <= 260.0\\ngini = 0.465\\nsamples = 19\\nvalue = [12, 7]'),\n",
              " Text(0.7, 0.65625, 'X[6] <= 0.483\\ngini = 0.486\\nsamples = 12\\nvalue = [5, 7]'),\n",
              " Text(0.6923076923076923, 0.59375, 'X[1] <= 135.5\\ngini = 0.408\\nsamples = 7\\nvalue = [5, 2]'),\n",
              " Text(0.6846153846153846, 0.53125, 'gini = 0.0\\nsamples = 2\\nvalue = [0, 2]'),\n",
              " Text(0.7, 0.53125, 'gini = 0.0\\nsamples = 5\\nvalue = [5, 0]'),\n",
              " Text(0.7076923076923077, 0.59375, 'gini = 0.0\\nsamples = 5\\nvalue = [0, 5]'),\n",
              " Text(0.7153846153846154, 0.65625, 'gini = 0.0\\nsamples = 7\\nvalue = [7, 0]'),\n",
              " Text(0.7951923076923076, 0.71875, 'X[2] <= 73.0\\ngini = 0.425\\nsamples = 88\\nvalue = [27, 61]'),\n",
              " Text(0.7307692307692307, 0.65625, 'X[4] <= 150.5\\ngini = 0.231\\nsamples = 30\\nvalue = [4, 26]'),\n",
              " Text(0.7230769230769231, 0.59375, 'gini = 0.0\\nsamples = 18\\nvalue = [0, 18]'),\n",
              " Text(0.7384615384615385, 0.59375, 'X[7] <= 39.5\\ngini = 0.444\\nsamples = 12\\nvalue = [4, 8]'),\n",
              " Text(0.7230769230769231, 0.53125, 'X[4] <= 167.0\\ngini = 0.219\\nsamples = 8\\nvalue = [1, 7]'),\n",
              " Text(0.7153846153846154, 0.46875, 'gini = 0.0\\nsamples = 1\\nvalue = [1, 0]'),\n",
              " Text(0.7307692307692307, 0.46875, 'gini = 0.0\\nsamples = 7\\nvalue = [0, 7]'),\n",
              " Text(0.7538461538461538, 0.53125, 'X[0] <= 7.5\\ngini = 0.375\\nsamples = 4\\nvalue = [3, 1]'),\n",
              " Text(0.7461538461538462, 0.46875, 'gini = 0.0\\nsamples = 3\\nvalue = [3, 0]'),\n",
              " Text(0.7615384615384615, 0.46875, 'gini = 0.0\\nsamples = 1\\nvalue = [0, 1]'),\n",
              " Text(0.8596153846153847, 0.65625, 'X[2] <= 85.5\\ngini = 0.479\\nsamples = 58\\nvalue = [23, 35]'),\n",
              " Text(0.8192307692307692, 0.59375, 'X[6] <= 0.283\\ngini = 0.499\\nsamples = 40\\nvalue = [21, 19]'),\n",
              " Text(0.7846153846153846, 0.53125, 'X[0] <= 5.5\\ngini = 0.26\\nsamples = 13\\nvalue = [11, 2]'),\n",
              " Text(0.7769230769230769, 0.46875, 'gini = 0.0\\nsamples = 8\\nvalue = [8, 0]'),\n",
              " Text(0.7923076923076923, 0.46875, 'X[5] <= 38.4\\ngini = 0.48\\nsamples = 5\\nvalue = [3, 2]'),\n",
              " Text(0.7846153846153846, 0.40625, 'gini = 0.0\\nsamples = 3\\nvalue = [3, 0]'),\n",
              " Text(0.8, 0.40625, 'gini = 0.0\\nsamples = 2\\nvalue = [0, 2]'),\n",
              " Text(0.8538461538461538, 0.53125, 'X[4] <= 83.9\\ngini = 0.466\\nsamples = 27\\nvalue = [10, 17]'),\n",
              " Text(0.823076923076923, 0.46875, 'X[5] <= 32.85\\ngini = 0.463\\nsamples = 11\\nvalue = [7, 4]'),\n",
              " Text(0.8153846153846154, 0.40625, 'gini = 0.0\\nsamples = 3\\nvalue = [3, 0]'),\n",
              " Text(0.8307692307692308, 0.40625, 'X[6] <= 0.411\\ngini = 0.5\\nsamples = 8\\nvalue = [4, 4]'),\n",
              " Text(0.823076923076923, 0.34375, 'gini = 0.0\\nsamples = 2\\nvalue = [0, 2]'),\n",
              " Text(0.8384615384615385, 0.34375, 'X[5] <= 39.35\\ngini = 0.444\\nsamples = 6\\nvalue = [4, 2]'),\n",
              " Text(0.8307692307692308, 0.28125, 'X[0] <= 7.5\\ngini = 0.444\\nsamples = 3\\nvalue = [1, 2]'),\n",
              " Text(0.823076923076923, 0.21875, 'gini = 0.0\\nsamples = 2\\nvalue = [0, 2]'),\n",
              " Text(0.8384615384615385, 0.21875, 'gini = 0.0\\nsamples = 1\\nvalue = [1, 0]'),\n",
              " Text(0.8461538461538461, 0.28125, 'gini = 0.0\\nsamples = 3\\nvalue = [3, 0]'),\n",
              " Text(0.8846153846153846, 0.46875, 'X[7] <= 34.5\\ngini = 0.305\\nsamples = 16\\nvalue = [3, 13]'),\n",
              " Text(0.8769230769230769, 0.40625, 'X[6] <= 0.689\\ngini = 0.49\\nsamples = 7\\nvalue = [3, 4]'),\n",
              " Text(0.8692307692307693, 0.34375, 'X[1] <= 156.5\\ngini = 0.375\\nsamples = 4\\nvalue = [3, 1]'),\n",
              " Text(0.8615384615384616, 0.28125, 'gini = 0.0\\nsamples = 3\\nvalue = [3, 0]'),\n",
              " Text(0.8769230769230769, 0.28125, 'gini = 0.0\\nsamples = 1\\nvalue = [0, 1]'),\n",
              " Text(0.8846153846153846, 0.34375, 'gini = 0.0\\nsamples = 3\\nvalue = [0, 3]'),\n",
              " Text(0.8923076923076924, 0.40625, 'gini = 0.0\\nsamples = 9\\nvalue = [0, 9]'),\n",
              " Text(0.9, 0.59375, 'X[3] <= 35.5\\ngini = 0.198\\nsamples = 18\\nvalue = [2, 16]'),\n",
              " Text(0.8923076923076924, 0.53125, 'gini = 0.0\\nsamples = 12\\nvalue = [0, 12]'),\n",
              " Text(0.9076923076923077, 0.53125, 'X[0] <= 5.423\\ngini = 0.444\\nsamples = 6\\nvalue = [2, 4]'),\n",
              " Text(0.9, 0.46875, 'gini = 0.0\\nsamples = 4\\nvalue = [0, 4]'),\n",
              " Text(0.9153846153846154, 0.46875, 'gini = 0.0\\nsamples = 2\\nvalue = [2, 0]'),\n",
              " Text(0.9576923076923077, 0.78125, 'X[3] <= 25.5\\ngini = 0.177\\nsamples = 51\\nvalue = [5, 46]'),\n",
              " Text(0.9384615384615385, 0.71875, 'X[6] <= 0.314\\ngini = 0.332\\nsamples = 19\\nvalue = [4, 15]'),\n",
              " Text(0.9230769230769231, 0.65625, 'X[7] <= 37.5\\ngini = 0.5\\nsamples = 6\\nvalue = [3, 3]'),\n",
              " Text(0.9153846153846154, 0.59375, 'gini = 0.0\\nsamples = 3\\nvalue = [3, 0]'),\n",
              " Text(0.9307692307692308, 0.59375, 'gini = 0.0\\nsamples = 3\\nvalue = [0, 3]'),\n",
              " Text(0.9538461538461539, 0.65625, 'X[6] <= 1.337\\ngini = 0.142\\nsamples = 13\\nvalue = [1, 12]'),\n",
              " Text(0.9461538461538461, 0.59375, 'gini = 0.0\\nsamples = 12\\nvalue = [0, 12]'),\n",
              " Text(0.9615384615384616, 0.59375, 'gini = 0.0\\nsamples = 1\\nvalue = [1, 0]'),\n",
              " Text(0.9769230769230769, 0.71875, 'X[5] <= 45.5\\ngini = 0.061\\nsamples = 32\\nvalue = [1, 31]'),\n",
              " Text(0.9692307692307692, 0.65625, 'gini = 0.0\\nsamples = 30\\nvalue = [0, 30]'),\n",
              " Text(0.9846153846153847, 0.65625, 'X[3] <= 47.5\\ngini = 0.5\\nsamples = 2\\nvalue = [1, 1]'),\n",
              " Text(0.9769230769230769, 0.59375, 'gini = 0.0\\nsamples = 1\\nvalue = [1, 0]'),\n",
              " Text(0.9923076923076923, 0.59375, 'gini = 0.0\\nsamples = 1\\nvalue = [0, 1]')]"
            ]
          },
          "metadata": {},
          "execution_count": 183
        },
        {
          "output_type": "display_data",
          "data": {
            "text/plain": [
              "<Figure size 864x576 with 1 Axes>"
            ],
            "image/png": "[encoded data removed]"
          },
          "metadata": {
            "needs_background": "light"
          }
        }
      ]
    }
  ]
}